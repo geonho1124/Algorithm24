{
 "cells": [
  {
   "cell_type": "markdown",
   "metadata": {},
   "source": [
    "# 1.문제 정의\n",
    "문제이름 : 이진트리의 높이   \n",
    "문제설명 : 주어진 이진트리의 높이를 구한다.   \n",
    "문제예시 : d = TNode('D',None,None) e = TNode('E',None,None) b = TNode('B',d,e)   \n",
    "f = TNode('F',None,None) c = TNode('C', f, None) root = TNode('A',b,c)   \n",
    "주어진 이진트리의 높이를 구한다.\n",
    "# 2.알고리즘 설명\n",
    "1. calc_height 함수에 root를 입력받는다.\n",
    "2. root가 없으면 0을 리턴한다.\n",
    "3. root가 0이 아니면 hLeft에 왼쪽 트리의 높이를 저장한다.\n",
    "4. root가 0이 아니면 hRight에 오른쪽 트리의 높이를 저장한다.\n",
    "5. hLeft와 hRight중 더 큰 값에 +1을 하여 리턴한다.\n",
    "# 3.손으로 푼 예제\n",
    "\n",
    "# 4.알고리즘 개요\n",
    "명칭 : 이진트리의 높이   \n",
    "입력변수 : 루트노드 root   \n",
    "출력 : hLeft와 hRight중 더 큰 값에 +1을 한 값\n",
    "# 5.알고리즘 코드"
   ]
  },
  {
   "cell_type": "code",
   "execution_count": null,
   "metadata": {},
   "outputs": [],
   "source": [
    "def calc_height(root) :\n",
    "    if root is None :\n",
    "        return 0\n",
    "    hLeft = calc_height(root.left)\n",
    "    hRight = calc_height(root.right)\n",
    "    return max(hLeft,hRight) + 1"
   ]
  },
  {
   "cell_type": "markdown",
   "metadata": {},
   "source": [
    "# 6."
   ]
  },
  {
   "cell_type": "code",
   "execution_count": null,
   "metadata": {},
   "outputs": [],
   "source": [
    "class TNode:\n",
    "    def __init__(self, data, left=None, right=None):\n",
    "        self.data = data\n",
    "        self.left = left\n",
    "        self.right = right\n",
    "\n",
    "d = TNode('D')\n",
    "e = TNode('E')\n",
    "b = TNode('B', d, e)\n",
    "f = TNode('F')\n",
    "c = TNode('C', f)\n",
    "root = TNode('A', b, c)\n",
    "\n",
    "def calc_height(root):\n",
    "    if root is None:\n",
    "        return 0\n",
    "    hLeft = calc_height(root.left)\n",
    "    hRight = calc_height(root.right)\n",
    "    return max(hLeft, hRight) + 1\n",
    "\n",
    "print(\"트리의 높이 : \", calc_height(root))"
   ]
  }
 ],
 "metadata": {
  "language_info": {
   "name": "python"
  }
 },
 "nbformat": 4,
 "nbformat_minor": 2
}
