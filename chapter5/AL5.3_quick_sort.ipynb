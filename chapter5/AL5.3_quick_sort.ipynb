{
 "cells": [
  {
   "cell_type": "markdown",
   "metadata": {},
   "source": [
    "# 1.문제 정의\n",
    "문제이름 : 퀵 정렬   \n",
    "문제설명 : 정렬할 리스트를 입력받아 퀵 정렬을 사용하여 리스트를 정렬한다.   \n",
    "문제예시 : 리스트[5, 3, 8, 4, 9, 1, 6, 2, 7]을 입력받아 퀵 정렬을 사용하여   \n",
    "리스트를 정렬시킨다.\n",
    "# 2.알고리즘 설명\n",
    "1. 정렬할 리스트 A, 리스트의 가장 왼쪽인 인덱스 left, 리스트의 가장 오른쪽인 인덱스 right를 입력한다.\n",
    "2. 왼쪽 인덱스 left가 오른쪽 인덱스 right보다 작은 경우일 때\n",
    "3. partition함수를 사용하여 중간 값을 mid에 저장하여 피벗을 설정한다.\n",
    "4. 피벗(mid) 값을 기준으로 왼쪽 리스트에서 quick_sort함수를 사용한다.\n",
    "5. 왼쪽 리스트에 첫번째 인덱스를 피벗으로 설정한다.\n",
    "6. 피벗 값보다 값이 작으면 피벗보다 왼쪽으로 오고, 클 경우는 오른쪽으로 옮긴다.\n",
    "7. 다시 오른쪽 리스트에 동일하게 수행한다.\n",
    "\n",
    "# 3.손으로 푼 예제\n",
    "\n",
    "# 4.알고리즘 개요\n",
    "명칭 : 퀵 정렬\n",
    "입력변수 : 정렬할 리스트 list\n",
    "출력 : 리스트를 퀵 정렬을 사용하여 정렬한 quick_sort(list)\n",
    "# 5.알고리즘 코드"
   ]
  },
  {
   "cell_type": "code",
   "execution_count": null,
   "metadata": {},
   "outputs": [],
   "source": [
    "def quick_sort(A, left, right) :\n",
    "    if left<right :\n",
    "        mid = partition(A, left, right)\n",
    "        quick_sort(A, left, mid-1)\n",
    "        quick_sort(A, mid+1, right)"
   ]
  },
  {
   "cell_type": "markdown",
   "metadata": {},
   "source": [
    "# 6.테스트 코드"
   ]
  },
  {
   "cell_type": "code",
   "execution_count": 1,
   "metadata": {},
   "outputs": [
    {
     "name": "stdout",
     "output_type": "stream",
     "text": [
      "[1, 2, 3, 4, 5, 6, 7, 8, 9]\n"
     ]
    }
   ],
   "source": [
    "def partition(A, left, right) :\n",
    "    low = left +1\n",
    "    high = right\n",
    "    pivot = A[left]\n",
    "    while (low <= high) :\n",
    "        while low <= right and A[low] <= pivot : low += 1\n",
    "        while high >= left and A[high] > pivot : high-= 1\n",
    "        \n",
    "        if low < high :\n",
    "            A[low], A[high] = A[high], A[low]\n",
    "            \n",
    "    A[left], A[high] = A[high], A[left]\n",
    "    return high\n",
    "\n",
    "def quick_sort(A, left, right) :\n",
    "    if left<right :\n",
    "        mid = partition(A, left, right)\n",
    "        quick_sort(A, left, mid-1)\n",
    "        quick_sort(A, mid+1, right)\n",
    "\n",
    "data = [5, 3, 8, 4, 9, 1, 6, 2, 7]\n",
    "quick_sort(data, 0, len(data)-1)\n",
    "print(data)"
   ]
  },
  {
   "attachments": {
    "image.png": {
     "image/png": "[encoded data removed]"
    }
   },
   "cell_type": "markdown",
   "metadata": {},
   "source": [
    "# 7.수행 결과\n",
    "![image.png](attachment:image.png)\n",
    "# 8.복잡도 분석\n"
   ]
  }
 ],
 "metadata": {
  "kernelspec": {
   "display_name": "Python 3",
   "language": "python",
   "name": "python3"
  },
  "language_info": {
   "codemirror_mode": {
    "name": "ipython",
    "version": 3
   },
   "file_extension": ".py",
   "mimetype": "text/x-python",
   "name": "python",
   "nbconvert_exporter": "python",
   "pygments_lexer": "ipython3",
   "version": "3.12.2"
  }
 },
 "nbformat": 4,
 "nbformat_minor": 2
}
