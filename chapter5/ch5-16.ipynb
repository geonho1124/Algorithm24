{
 "cells": [
  {
   "cell_type": "markdown",
   "metadata": {},
   "source": [
    "# 예제 5장 (16번)\n",
    "주어진 이진트리에서 모든 노드의 수를 계산하는 알고리즘을 분할 정복 기법으로 설계하라."
   ]
  },
  {
   "cell_type": "code",
   "execution_count": null,
   "metadata": {},
   "outputs": [],
   "source": [
    "def count_node(n) :\n",
    "    if n is None :\n",
    "        return 0\n",
    "    else :\n",
    "        return 1 + count_node(n.left) + count_node(n.right)"
   ]
  },
  {
   "cell_type": "markdown",
   "metadata": {},
   "source": [
    "1. 만약 노드가 없다면 0을 리턴한다.\n",
    "2. 노드가 있다면 자기자신 +1을 해주고 왼쪽과 오른쪽 노드들로부터 시작된 서브트리들을 구하여   \n",
    "전체를 합해 모든 노드의 수를 계산한다."
   ]
  }
 ],
 "metadata": {
  "language_info": {
   "name": "python"
  }
 },
 "nbformat": 4,
 "nbformat_minor": 2
}
