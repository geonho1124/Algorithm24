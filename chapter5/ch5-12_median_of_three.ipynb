def median_of_three(a, left, right):
    mid = (left + right) // 2
    if ((a[left] < a[mid] and a[mid] < a[right]) or (a[right] < a[mid] and a[mid] < a[left])):
        return mid
    if ((a[mid] < a[left] and a[left] < a[right]) or (a[right] < a[left] and a[left] < a[mid])):
        return left
    else:
        return right

def partition(A, left, right):
    mid_index = median_of_three(A, left, right)
    A[left], A[mid_index] = A[mid_index], A[left]
    pivot = A[left]
    low = left + 1
    high = right

    while low <= high:
        while low <= right and A[low] <= pivot:
            low += 1
        while high >= left and A[high] > pivot:
            high -= 1
        if low < high:
            A[low], A[high] = A[high], A[low]

    A[left], A[high] = A[high], A[left]
    return high