{
 "cells": [
  {
   "cell_type": "markdown",
   "metadata": {},
   "source": [
    "# 예제 5장 (12번)\n",
    "퀵 정렬에서 불균형 분할을 완화하기 위해 리스트의 왼쪽, 오른쪽, 중간의 3개의 항목 중에서 중간값을 피벗으로 선택하는 방법을 구현하라.   \n",
    "이를 위해 알고리즘 4.12의 partition()을 수정하라."
   ]
  },
  {
   "cell_type": "code",
   "execution_count": null,
   "metadata": {},
   "outputs": [],
   "source": [
    "def median_of_three(a, left, right):\n",
    "    mid = (left + right) // 2\n",
    "    if ((a[left] < a[mid] and a[mid] < a[right]) or (a[right] < a[mid] and a[mid] < a[left])):\n",
    "        return mid\n",
    "    if ((a[mid] < a[left] and a[left] < a[right]) or (a[right] < a[left] and a[left] < a[mid])):\n",
    "        return left\n",
    "    else:\n",
    "        return right\n",
    "\n",
    "def partition(A, left, right):\n",
    "    mid_index = median_of_three(A, left, right)\n",
    "    A[left], A[mid_index] = A[mid_index], A[left]\n",
    "    pivot = A[left]\n",
    "    low = left + 1\n",
    "    high = right\n",
    "\n",
    "    while low <= high:\n",
    "        while low <= right and A[low] <= pivot:\n",
    "            low += 1\n",
    "        while high >= left and A[high] > pivot:\n",
    "            high -= 1\n",
    "        if low < high:\n",
    "            A[low], A[high] = A[high], A[low]\n",
    "\n",
    "    A[left], A[high] = A[high], A[left]\n",
    "    return high"
   ]
  }
 ],
 "metadata": {
  "language_info": {
   "name": "python"
  }
 },
 "nbformat": 4,
 "nbformat_minor": 2
}
