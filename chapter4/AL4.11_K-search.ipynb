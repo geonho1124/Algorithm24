{
 "cells": [
  {
   "cell_type": "markdown",
   "metadata": {},
   "source": [
    "# 1.문제 정의\n",
    "문제이름 : 축소 정복 기법을 이용한 k번째 작은 수 찾기   \n",
    "문제설명 : 리스트 A와 배열의왼쪽인덱스 left와 배열의오른쪽인덱스 right, 찾으려는 순서 k를 입력받아   \n",
    "축소 정복 기법을 이용하여 k번째 작은 수를 찾는다.   \n",
    "문제예시 : list[12, 3, 5, 7, 4, 19, 26, 23, 15]에서 3번째 작은 수(k)를 축소 정복 기법으로 찾아 5를 반환한다.\n",
    "# 2.알고리즘 설명\n",
    "(AL4.11)   \n",
    "1. 리스트A, 배열의왼쪽인덱스 left와 배열의오른쪽인덱스 right, 찾으려는 순서 k를 입력받는다.\n",
    "2. pos에 partition함수를 사용하여 A에서 피벗의 인덱스를 구한다.\n",
    "3. left+k가 pos+1의 값이 같을 때, A[pos]값을 반환한다.\n",
    "4. left+k가 pos+1보다 작을 때 왼쪽 리스트에서 다시 함수를 호출하여 탐색한다.\n",
    "5. left+k가 pos+1보다 클 때 오른쪽 리스트에서 다시 함수를 호출하여 탐색한다."
   ]
  },
  {
   "cell_type": "markdown",
   "metadata": {},
   "source": [
    "(AL4.12)   \n",
    "1. left+1을 하여 low값에 왼쪽 부분 인덱스를 증가시킨다.\n",
    "2. right는 high로 초기화한다.\n",
    "3. pivot에 A[left]를 저장해 초기값을 설정한다.\n",
    "4. while문을 통해 (low <= high) 즉, low값이 high값을 초과하기 전까지 반복한다.\n",
    "5. low가 right보다 작거나 같고, A[low]값이 pivot값보다 작거나 같을 때 low += 1을 하여 왼쪽 인덱스를 하나 증가시킨다.\n",
    "6. high가 left보다 같거나 크고, A[high]값이 pivot값보다 클 때 high -= 1을 하여 오른쪽 인덱스를 감소시킨다.\n",
    "7. low값보다 high값이 클 때 A[low]와 A[high]값을 서로 교환시킨다.\n",
    "8. A[left]와 A[high]값을 서로 교환시킨다.\n",
    "9. 최종으로 피벗의 위치 high를 반환시킨다.\n",
    "# 3.손으로 푼 예제\n",
    "\n",
    "# 4.알고리즘 개요\n",
    "명칭 : 축소 정복 기법을 이용한 k번째 작은 수 찾기   \n",
    "입력변수 : 리스트 A와 배열의왼쪽인덱스 left와 배열의오른쪽인덱스 right, 찾으려는 순서 k   \n",
    "출력 : 축소 정복 기법을 사용하여 찾으려는 순서 k\n",
    "# 5.알고리즘 코드"
   ]
  },
  {
   "cell_type": "code",
   "execution_count": null,
   "metadata": {},
   "outputs": [],
   "source": [
    "def partiton(A, left, right) :\n",
    "    low = left +1\n",
    "    high = right\n",
    "    pivot = A[left]\n",
    "    while (low <= high) :\n",
    "        while low <= right and A[low] <= pivot : low += 1\n",
    "        while high <= left and A[high] > pivot : high-= 1\n",
    "        \n",
    "        if low < high :\n",
    "            A[low], A[high] = A[high], A[low]\n",
    "            \n",
    "    A[left], A[high] = A[high], A[left]\n",
    "    return high\n",
    "\n",
    "def quick_select(A, left, right, k) :\n",
    "    pos = partition(A, left, right)\n",
    "    \n",
    "    if (pos+1 == left + k) :\n",
    "        return A[pos]\n",
    "    elif (pos+1 > left + k) :\n",
    "        return quick_select(A, left, pos-1, k)\n",
    "    else :\n",
    "        return quick_select(A, pos+1, right, k-(pos+1-left))"
   ]
  },
  {
   "cell_type": "markdown",
   "metadata": {},
   "source": [
    "# 6.테스트 코드"
   ]
  },
  {
   "cell_type": "markdown",
   "metadata": {},
   "source": [
    "# 7.수행결과"
   ]
  },
  {
   "cell_type": "markdown",
   "metadata": {},
   "source": [
    "# 8.복잡도 분석"
   ]
  },
  {
   "cell_type": "markdown",
   "metadata": {},
   "source": [
    "# 9.작성자\n",
    "AL4.11 작성자 : 202110501 박건호   \n",
    "\n",
    "* 실습문제 풀이   \n",
    "짝수예제 - 202110051 곽지수   \n",
    "홀수예제 - 202110501 박건호,김민우 (각각 개별적으로 해결) "
   ]
  }
 ],
 "metadata": {
  "language_info": {
   "name": "python"
  }
 },
 "nbformat": 4,
 "nbformat_minor": 2
}
