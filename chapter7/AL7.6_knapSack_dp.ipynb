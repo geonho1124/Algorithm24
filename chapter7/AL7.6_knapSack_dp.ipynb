{
 "cells": [
  {
   "cell_type": "markdown",
   "metadata": {},
   "source": [
    "# 1.문제 정의\n",
    "문제이름 : 0-1 배낭 채우기 알고리즘(동적 계획법)   \n",
    "문제설명 : 동적 계획법으로 배낭 채우기 문제를 해결한다.   \n",
    "문제예시 : 동적 계획법을 사용하여 주어진 값 val=[60, 100, 190, 120, 200, 150], wt=[2, 5, 8, 4, 7, 6], W=18, n=len(val)   \n",
    "으로 배낭 채우기 문제를 해결한다.\n",
    "# 2.알고리즘 설명\n",
    "1. (n + 1)x(W + 1) 크기의 2차원 리스트를 만들고 0으로 초기화 시킨다.\n",
    "2. i번째 물건이 배낭 용량을 초과할 경우 \n",
    "# 3.손으로 푼 예제\n",
    "\n",
    "# 4.알고리즘 개요\n",
    "명칭 : 0-1 배낭 채우기 알고리즘(동적 계획법)   \n",
    "입력변수 : 현재 배낭의 용량 W, 물건들의 무게를 저장한 리스트 wt, 물건들의 가치를 저장한 리스트 val, 물건들의 수 n   \n",
    "출력 : 동적 계획법을 사용하여 배낭 문제를 해결한 값 A[n][W]\n",
    "# 5.알고리즘 코드"
   ]
  },
  {
   "cell_type": "code",
   "execution_count": null,
   "metadata": {},
   "outputs": [],
   "source": [
    "def knapSack_dp(W, wt, val, n):\n",
    "    A = [[0 for x in range(W + 1)] for x in range(n + 1)]\n",
    "    \n",
    "    for i in range(1, n + 1):\n",
    "        for w in range(1, W + 1):\n",
    "            if wt[i-1] > w:\n",
    "                A[i][w] = A[i-1][w]\n",
    "            else :\n",
    "                valWith = val[i-1] + A[i-1][w-wt[i-1]]\n",
    "                valWithout = A[i-1][w]\n",
    "                A[i][w] = max(valWith, valWithout)\n",
    "                \n",
    "    return A[n][W]"
   ]
  }
 ],
 "metadata": {
  "language_info": {
   "name": "python"
  }
 },
 "nbformat": 4,
 "nbformat_minor": 2
}
