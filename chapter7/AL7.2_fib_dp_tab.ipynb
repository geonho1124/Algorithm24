{
 "cells": [
  {
   "cell_type": "markdown",
   "metadata": {},
   "source": [
    "# 1.문제 정의\n",
    "문제이름 : 피보나치수열(테이블화 이용)   \n",
    "문제설명 : 8\n",
    "문제예시 : \n",
    "# 2.알고리즘 설명\n",
    "1. \n",
    "# 3.손으로 푼 예제\n",
    "\n",
    "# 4.알고리즘 개요\n",
    "명칭 : \n",
    "입력변수 : \n",
    "출력 : \n",
    "# 5.알고리즘 코드"
   ]
  },
  {
   "cell_type": "code",
   "execution_count": null,
   "metadata": {},
   "outputs": [],
   "source": [
    "def fib_dp_tab(n) :\n",
    "    f = [None] * (n+1)\n",
    "    f[0] = 0\n",
    "    f[1] = 1\n",
    "    for i in range(2, n + 1):\n",
    "        f[i] = f[i-1] + f[i-2]\n",
    "    return f[n]"
   ]
  }
 ],
 "metadata": {
  "language_info": {
   "name": "python"
  }
 },
 "nbformat": 4,
 "nbformat_minor": 2
}
