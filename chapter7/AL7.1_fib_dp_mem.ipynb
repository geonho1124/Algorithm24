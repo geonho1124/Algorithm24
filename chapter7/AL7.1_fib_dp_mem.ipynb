{
 "cells": [
  {
   "cell_type": "markdown",
   "metadata": {},
   "source": [
    "# 1.문제 정의\n",
    "문제이름 : 피보나치수열(메모이제이션 이용)   \n",
    "문제설명 : 메모이제이션(한번 계산한 값을 저장해 두었다가 재활용하는 최적화 기법)을 이용하여 피보나치수열을 구한다.   \n",
    "문제예시 : 메모이제이션을 이용해 피보나치수열 fib(6)을 구한다.\n",
    "# 2.알고리즘 설명\n",
    "1. if문을 통해 아직 풀리지 않은 문제인지 검사한다.(mem[n]이 None일 경우에 아직 문제가 풀리지 않음)\n",
    "2. None일 경우 n이 2보다 작을 경우 mem[n]에 n을 저장한다.\n",
    "3. n이 2이상일 경우 mem[n]에 fib_dp_mem(n-1) + fib_dp_mem(n-2)를 하여 함수를 순환 호출한다.\n",
    "4. mem[n]이 이미 풀려있거나, 풀리지 않은 경우 모두 mem[n]에 저장되어 있으므로 mem[n]을 리턴해준다.\n",
    "# 3.손으로 푼 예제\n",
    "\n",
    "# 4.알고리즘 개요\n",
    "명칭 : 피보나치수열(메모이제이션 이용)   \n",
    "입력변수 : 피보나치수열로 값을 구할 n   \n",
    "출력 : n의 피보나치수열 값을 구한 mem[n]\n",
    "# 5.알고리즘 코드"
   ]
  },
  {
   "cell_type": "code",
   "execution_count": null,
   "metadata": {},
   "outputs": [],
   "source": [
    "def fib_dp_mem(n) :\n",
    "    if( mem[n] == None ) :\n",
    "        if n < 2 :\n",
    "            mem[n] = n\n",
    "        else:\n",
    "            mem[n] = fib_dp_mem(n-1) + fib_dp_men(n-2)\n",
    "    return mem[n]"
   ]
  },
  {
   "cell_type": "markdown",
   "metadata": {},
   "source": [
    "# 6.테스트 코드"
   ]
  },
  {
   "cell_type": "code",
   "execution_count": 2,
   "metadata": {},
   "outputs": [
    {
     "name": "stdout",
     "output_type": "stream",
     "text": [
      "피보나치수열 8의 값 : 21\n"
     ]
    }
   ],
   "source": [
    "def fib_dp_mem(n) :\n",
    "    if( mem[n] == None ) :\n",
    "        if n < 2 :\n",
    "            mem[n] = n\n",
    "        else:\n",
    "            mem[n] = fib_dp_mem(n-1) + fib_dp_mem(n-2)\n",
    "    return mem[n]\n",
    "\n",
    "n = 8\n",
    "mem = [None] * (n+1)\n",
    "print(f\"피보나치수열 {n}의 값 : {fib_dp_mem(n)}\")"
   ]
  },
  {
   "attachments": {
    "image.png": {
     "image/png": "[encoded data removed]"
    }
   },
   "cell_type": "markdown",
   "metadata": {},
   "source": [
    "# 7.수행 결과\n",
    "![image.png](attachment:image.png)\n",
    "# 8.복잡도 분석\n",
    "피보나치수열 8의 값을 구하려면 이전의 값(7,6,5..)들을 모두 계산해야하기때문에   \n",
    "시간복잡도는 피보나치수열을 구하려는 값 n이다. 따라서   \n",
    "$$O(n)이다."
   ]
  },
  {
   "cell_type": "markdown",
   "metadata": {},
   "source": [
    "# 9.작성자\n",
    "AL7.1 작성자 : 202110501 박건호"
   ]
  }
 ],
 "metadata": {
  "kernelspec": {
   "display_name": "Python 3",
   "language": "python",
   "name": "python3"
  },
  "language_info": {
   "codemirror_mode": {
    "name": "ipython",
    "version": 3
   },
   "file_extension": ".py",
   "mimetype": "text/x-python",
   "name": "python",
   "nbconvert_exporter": "python",
   "pygments_lexer": "ipython3",
   "version": "3.12.2"
  }
 },
 "nbformat": 4,
 "nbformat_minor": 2
}
