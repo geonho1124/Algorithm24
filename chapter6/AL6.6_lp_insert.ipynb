{
 "cells": [
  {
   "cell_type": "markdown",
   "metadata": {},
   "source": [
    "# 1.문제 정의\n",
    "문제이름 : 선형 조사법의 삽입 알고리즘   \n",
    "문제설명 : 선형 조사법으로 레코드들을 저장한다.\n",
    "문제예시 : 45, 27, 88, 9, 71, 60, 46, 38, 24를 해시함수를 사용하여 해시주소를 구하고   \n",
    "값에 따라 삽입을 시킨다.\n",
    "# 2.알고리즘 설명\n",
    "1. \n",
    "# 3.손으로 푼 예제\n",
    "\n",
    "# 4.알고리즘 개요\n",
    "명칭 : \n",
    "입력변수 : \n",
    "출력 : \n",
    "# 5.알고리즘 코드"
   ]
  },
  {
   "cell_type": "code",
   "execution_count": null,
   "metadata": {},
   "outputs": [],
   "source": [
    "M = 13\n",
    "table = [None]*M\n",
    "def hashFn(key) :\n",
    "    return key % M\n",
    "\n",
    "def lp_insert(key) :\n",
    "    id = hashFn(key)\n",
    "    count = M\n",
    "    while count>0 and (table[id] != None) :\n",
    "        id = (id + 1 + M) % M\n",
    "        count -= 1\n",
    "    if count > 0 :\n",
    "        table[id] = key\n",
    "    return"
   ]
  }
 ],
 "metadata": {
  "language_info": {
   "name": "python"
  }
 },
 "nbformat": 4,
 "nbformat_minor": 2
}
