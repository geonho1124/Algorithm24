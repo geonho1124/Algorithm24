{
 "cells": [
  {
   "cell_type": "markdown",
   "metadata": {},
   "source": [
    "# 1.문제 정의\n",
    "문제이름 : 기수 정렬   \n",
    "문제설명 : 자릿수의 값에 따라서 정렬한다.   \n",
    "문제예시 : 1에서 9999사이의 숫자 10개를 무작위로 생성하고 기수정렬을 사용하여 정렬시킨다.\n",
    "# 2.알고리즘 설명\n",
    "1. 기수정렬에 사용할 버킷을 만들기위해 Queue를 생성한다.\n",
    "2. queues에 공백 큐를 만들어준다.\n",
    "3. factor에 1을 저장하여 1의 자리부터 큰 자리수로 올라가면서 정렬한다.\n",
    "4. 버킷의 위치를 계산하고 그 버킷위치에 숫자를 넣는다.\n",
    "5. 버킷에서 정렬된 숫자를 순서대로 꺼낸다.\n",
    "6. 다음 자릿수를 처리한다.\n",
    "7. 마지막으로 정렬된 리스트를 출력한다.\n",
    "# 3.손으로 푼 예제\n",
    "\n",
    "# 4.알고리즘 개요\n",
    "명칭 : 기수 정렬\n",
    "입력변수 : 정렬할 리스트 A\n",
    "출력 : 기수 정렬로 정렬된 리스트 A\n",
    "# 5.알고리즘 코드"
   ]
  },
  {
   "cell_type": "code",
   "execution_count": null,
   "metadata": {},
   "outputs": [],
   "source": [
    "from queue import Queue\n",
    "def radix_sort(A) :\n",
    "    queues = []\n",
    "    for i in range(BUCKETS) :\n",
    "        queues.append(Queue())\n",
    "        \n",
    "        n = len(A)\n",
    "        factor = 1\n",
    "        for d in range(DIGITS) :\n",
    "            for i in range(n) :\n",
    "                queues[(A[i]//factor) % BUCKETS].put(A[i])\n",
    "            j = 0\n",
    "            for b in range(BUCKETS) :\n",
    "                while not queues[b].empty() :\n",
    "                    A[j] = queues[b].get()\n",
    "                    j += 1\n",
    "            factor *= BUCKETS\n",
    "            print(\"step\", d+1, A)"
   ]
  },
  {
   "cell_type": "markdown",
   "metadata": {},
   "source": [
    "# 6.테스트 코드"
   ]
  },
  {
   "cell_type": "code",
   "execution_count": 5,
   "metadata": {},
   "outputs": [
    {
     "name": "stdout",
     "output_type": "stream",
     "text": [
      "step 1 [3040, 2220, 7310, 301, 1962, 3805, 6326, 7956, 1277, 3168]\n",
      "step 2 [301, 3805, 7310, 2220, 6326, 3040, 7956, 1962, 3168, 1277]\n",
      "step 3 [3040, 3168, 2220, 1277, 301, 7310, 6326, 3805, 7956, 1962]\n",
      "step 4 [301, 1277, 1962, 2220, 3040, 3168, 3805, 6326, 7310, 7956]\n",
      "Radix:  [301, 1277, 1962, 2220, 3040, 3168, 3805, 6326, 7310, 7956]\n"
     ]
    }
   ],
   "source": [
    "from queue import Queue\n",
    "def radix_sort(A) :\n",
    "    queues = []\n",
    "    for i in range(BUCKETS) :\n",
    "        queues.append(Queue())\n",
    "        \n",
    "    n = len(A)\n",
    "    factor = 1\n",
    "    for d in range(DIGITS) :\n",
    "        for i in range(n) :\n",
    "            queues[(A[i]//factor) % BUCKETS].put(A[i])\n",
    "        j = 0\n",
    "        for b in range(BUCKETS) :\n",
    "            while not queues[b].empty() :\n",
    "                A[j] = queues[b].get()\n",
    "                j += 1\n",
    "        factor *= BUCKETS\n",
    "        print(\"step\", d+1, A)\n",
    "            \n",
    "import random\n",
    "BUCKETS = 10\n",
    "DIGITS = 4\n",
    "data = []\n",
    "for i in range(10) :\n",
    "    data.append(random.randint(1,9999))\n",
    "radix_sort(data)\n",
    "print(\"Radix: \", data)"
   ]
  },
  {
   "cell_type": "code",
   "execution_count": null,
   "metadata": {},
   "outputs": [],
   "source": []
  }
 ],
 "metadata": {
  "kernelspec": {
   "display_name": "Python 3",
   "language": "python",
   "name": "python3"
  },
  "language_info": {
   "codemirror_mode": {
    "name": "ipython",
    "version": 3
   },
   "file_extension": ".py",
   "mimetype": "text/x-python",
   "name": "python",
   "nbconvert_exporter": "python",
   "pygments_lexer": "ipython3",
   "version": "3.12.2"
  }
 },
 "nbformat": 4,
 "nbformat_minor": 2
}
